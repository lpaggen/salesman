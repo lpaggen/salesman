{
 "cells": [
  {
   "cell_type": "code",
   "execution_count": 376,
   "metadata": {},
   "outputs": [],
   "source": [
    "import numpy as np"
   ]
  },
  {
   "cell_type": "markdown",
   "metadata": {},
   "source": [
    "INSPIRATION FROM THE FOLLOWING BLOG \n",
    "\n",
    "https://medium.com/aimonks/traveling-salesman-problem-tsp-using-genetic-algorithm-fea640713758"
   ]
  },
  {
   "cell_type": "code",
   "execution_count": 377,
   "metadata": {},
   "outputs": [],
   "source": [
    "from random import randrange, random\n",
    "from random import shuffle"
   ]
  },
  {
   "cell_type": "code",
   "execution_count": 4,
   "metadata": {},
   "outputs": [
    {
     "data": {
      "text/plain": [
       "10"
      ]
     },
     "execution_count": 4,
     "metadata": {},
     "output_type": "execute_result"
    }
   ],
   "source": [
    "# set up country list\n",
    "\n",
    "cities = [\n",
    "    \"Paris\", \"Berlin\", \"London\", \"Madrid\", \"Rome\", \"Amsterdam\", \"Lisbon\", \"Prague\", \"Vienna\", \"Stockholm\",\n",
    "]\n",
    "\n",
    "len(cities)"
   ]
  },
  {
   "cell_type": "code",
   "execution_count": 5,
   "metadata": {},
   "outputs": [
    {
     "name": "stdout",
     "output_type": "stream",
     "text": [
      "10\n"
     ]
    },
    {
     "data": {
      "text/plain": [
       "{'Paris': (8, 12),\n",
       " 'Berlin': (5, 19),\n",
       " 'London': (3, 11),\n",
       " 'Madrid': (19, 14),\n",
       " 'Rome': (16, 5),\n",
       " 'Amsterdam': (2, 9),\n",
       " 'Lisbon': (1, 9),\n",
       " 'Prague': (1, 12),\n",
       " 'Vienna': (4, 3),\n",
       " 'Stockholm': (10, 19)}"
      ]
     },
     "execution_count": 5,
     "metadata": {},
     "output_type": "execute_result"
    }
   ],
   "source": [
    "def determine_coords(city_list, max_distance):\n",
    "    country_coords = {}\n",
    "    for city in city_list:\n",
    "        while len(country_coords) < len(city_list):\n",
    "            coords = (randrange(0, max_distance), randrange(0, max_distance))\n",
    "            if coords not in country_coords.values():\n",
    "                country_coords[city] = coords\n",
    "                break\n",
    "\n",
    "    return country_coords\n",
    "\n",
    "coords = determine_coords(cities, 20)\n",
    "print(len(coords))\n",
    "\n",
    "coords"
   ]
  },
  {
   "cell_type": "code",
   "execution_count": 6,
   "metadata": {},
   "outputs": [],
   "source": [
    "# out of above countries, select N countries to construct initial population\n",
    "\n",
    "def initial_countries(n_sol, n_countries, country_list):\n",
    "    selected_cities = []  # list of n countries to permute\n",
    "    while len(selected_cities) < n_sol:\n",
    "        sublist_cities = []  # list of n countries to permute\n",
    "        while len(sublist_cities) < n_countries:\n",
    "            rand = randrange(0, len(country_list))\n",
    "            selected_city = country_list[rand]\n",
    "            if selected_city not in sublist_cities:\n",
    "                sublist_cities.append(selected_city)\n",
    "        if len(set(sublist_cities)) == n_countries:  # Ensure unique cities\n",
    "            selected_cities.append(sublist_cities)\n",
    "\n",
    "    return selected_cities\n",
    "\n",
    "cities_selection = initial_countries(100, 10, cities)"
   ]
  },
  {
   "cell_type": "code",
   "execution_count": 7,
   "metadata": {},
   "outputs": [
    {
     "data": {
      "text/plain": [
       "{'Berlin': (5, 19),\n",
       " 'Vienna': (4, 3),\n",
       " 'Prague': (1, 12),\n",
       " 'Lisbon': (1, 9),\n",
       " 'Madrid': (19, 14),\n",
       " 'Stockholm': (10, 19),\n",
       " 'Paris': (8, 12),\n",
       " 'Rome': (16, 5),\n",
       " 'London': (3, 11),\n",
       " 'Amsterdam': (2, 9)}"
      ]
     },
     "execution_count": 7,
     "metadata": {},
     "output_type": "execute_result"
    }
   ],
   "source": [
    "def construct_pop_coords(solution_arr, coord_map):\n",
    "    result_dict_list = []\n",
    "\n",
    "    for subarray in solution_arr:\n",
    "        subarray_dict = {city: coord_map.get(city, None) for city in subarray}\n",
    "        result_dict_list.append(subarray_dict)\n",
    "\n",
    "    return result_dict_list\n",
    "\n",
    "solutions_coords = construct_pop_coords(cities_selection, coords)\n",
    "\n",
    "solutions_coords[0]"
   ]
  },
  {
   "cell_type": "code",
   "execution_count": 8,
   "metadata": {},
   "outputs": [],
   "source": [
    "from math import dist"
   ]
  },
  {
   "cell_type": "code",
   "execution_count": 9,
   "metadata": {},
   "outputs": [],
   "source": [
    "def calc_total_dist(sol_coords):\n",
    "    max_range = len(sol_coords[0]) - 1\n",
    "    total_dist_per_sol = []\n",
    "    for sol_coord in sol_coords:\n",
    "        solution_total_dist = 0\n",
    "        for i in range(max_range):\n",
    "            city_1_coords = list(sol_coord.values())[i]\n",
    "            city_2_coords = list(sol_coord.values())[i + 1]\n",
    "            \n",
    "            distance = dist(city_1_coords, city_2_coords)\n",
    "            solution_total_dist += distance \n",
    "            \n",
    "        total_dist_per_sol.append(solution_total_dist)\n",
    "    return total_dist_per_sol\n",
    "        \n",
    "total_distances_per_sol = calc_total_dist(solutions_coords)"
   ]
  },
  {
   "cell_type": "code",
   "execution_count": 10,
   "metadata": {},
   "outputs": [
    {
     "data": {
      "text/plain": [
       "100"
      ]
     },
     "execution_count": 10,
     "metadata": {},
     "output_type": "execute_result"
    }
   ],
   "source": [
    "def assign_weights(distance_sum_list):\n",
    "    score_list = []\n",
    "    for distance_sum in distance_sum_list:\n",
    "        score_list.append(1 / (1 + distance_sum))\n",
    "\n",
    "    return score_list\n",
    "\n",
    "weights = assign_weights(total_distances_per_sol)\n",
    "\n",
    "len(weights)"
   ]
  },
  {
   "cell_type": "code",
   "execution_count": 11,
   "metadata": {},
   "outputs": [],
   "source": [
    "def probability_wheel(solutions, weights_list):\n",
    "    total_score = sum(weights_list)\n",
    "    probabilities = [x / total_score for x in weights_list] # gets proportion of each solution based on score (adds to 1)\n",
    "    selection = []\n",
    "    for i in range(len(solutions)):\n",
    "        rand = random() # number between 0 and 1\n",
    "        prob_sum = 0 # cumulative probability\n",
    "        for idx, prob in enumerate(probabilities):\n",
    "            prob_sum += prob # adds up to total\n",
    "            if prob_sum > rand: # cutoff is exceeded\n",
    "                selection.append(solutions[idx])\n",
    "                break\n",
    "\n",
    "    return selection\n",
    "\n",
    "selected_solutions = probability_wheel(solutions_coords, weights)"
   ]
  },
  {
   "cell_type": "code",
   "execution_count": 681,
   "metadata": {},
   "outputs": [],
   "source": [
    "def crossover(solutions, cross_rate): # TO DO : IMPLEMENT CROSSOVER RATE\n",
    "    parents = [(solutions[i], solutions[i + 1]) for i in range(0, len(solutions), 2)]\n",
    "    cross_solutions = [] # store the newly crossovered solutions\n",
    "    idxx = len(solutions[0])\n",
    "    for parent1, parent2 in parents:\n",
    "        sub_cross_solutions_c1 = {}\n",
    "        sub_cross_solutions_c2 = {}\n",
    "\n",
    "        p1_city = [city for city in parent1.keys()]\n",
    "        p2_city = [city for city in parent2.keys()]\n",
    "        p1_coords = [coord for coord in parent1.values()]\n",
    "        p2_coords = [coord for coord in parent2.values()]\n",
    "\n",
    "        p1_idx_list = [i for i in range(idxx)]\n",
    "        p2_idx_list = [i for i in range(idxx)]\n",
    "\n",
    "        shuffle(p1_idx_list)\n",
    "        shuffle(p2_idx_list)\n",
    "\n",
    "        start_point_idx = randrange(2, idxx - 3)\n",
    "        end_point_idx = randrange(start_point_idx + 1, idxx - 2)\n",
    "\n",
    "        c1_proto_init = [-1 for i in range(idxx)]\n",
    "        c2_proto_init = [-1 for i in range(idxx)]\n",
    "\n",
    "        c1_proto = c1_proto_init[:start_point_idx] + p1_idx_list[start_point_idx:end_point_idx] + c1_proto_init[end_point_idx:]\n",
    "        c2_proto = c2_proto_init[:start_point_idx] + p2_idx_list[start_point_idx:end_point_idx] + c2_proto_init[end_point_idx:]\n",
    "\n",
    "        for index, element in enumerate(c1_proto):\n",
    "            if element == -1:\n",
    "                for i in p2_idx_list:\n",
    "                    if i not in c1_proto:\n",
    "                        c1_proto[index] = i\n",
    "\n",
    "        for index2, element2 in enumerate(c2_proto):\n",
    "            if element2 == -1:\n",
    "                for j in p1_idx_list:\n",
    "                    if j not in c2_proto:\n",
    "                        c2_proto[index2] = j\n",
    "\n",
    "        for i in c1_proto:\n",
    "            sub_cross_solutions_c1[p1_city[i]] = p1_coords[i]\n",
    "            \n",
    "        for j in c2_proto:\n",
    "            sub_cross_solutions_c2[p2_city[j]] = p2_coords[j]\n",
    "            \n",
    "        cross_solutions.append(sub_cross_solutions_c1)\n",
    "        cross_solutions.append(sub_cross_solutions_c2)\n",
    "\n",
    "    return cross_solutions\n",
    "        \n",
    "crossover_results = crossover(selected_solutions, 0.1)"
   ]
  },
  {
   "cell_type": "code",
   "execution_count": 682,
   "metadata": {},
   "outputs": [
    {
     "data": {
      "text/plain": [
       "{'Rome': (16, 5),\n",
       " 'Paris': (8, 12),\n",
       " 'Madrid': (19, 14),\n",
       " 'Vienna': (4, 3),\n",
       " 'Lisbon': (1, 9),\n",
       " 'Amsterdam': (2, 9),\n",
       " 'Prague': (1, 12),\n",
       " 'Stockholm': (10, 19),\n",
       " 'London': (3, 11),\n",
       " 'Berlin': (5, 19)}"
      ]
     },
     "execution_count": 682,
     "metadata": {},
     "output_type": "execute_result"
    }
   ],
   "source": [
    "def mutate(solutions, mutate_rate):\n",
    "    for idx, solution in enumerate(solutions):\n",
    "        cities = [city for city in solution.keys()]\n",
    "        coords = [coord for coord in solution.values()]\n",
    "        for i, current_city in enumerate(cities):\n",
    "            rand = random()\n",
    "            rand_idx_2 = randrange(0, len(cities))\n",
    "            if rand < mutate_rate:\n",
    "                cities[i], cities[rand_idx_2] = cities[rand_idx_2], cities[i]\n",
    "                coords[i], coords[rand_idx_2] = coords[rand_idx_2], coords[i]\n",
    "\n",
    "        solutions[idx] = dict(zip(cities, coords))\n",
    "\n",
    "    return solutions\n",
    "\n",
    "mutate_test = mutate(cross_sample, 0.1)\n",
    "\n",
    "mutate_test[0]"
   ]
  },
  {
   "cell_type": "code",
   "execution_count": 684,
   "metadata": {},
   "outputs": [
    {
     "name": "stdout",
     "output_type": "stream",
     "text": [
      "{'Vienna': (15, 10), 'Amsterdam': (14, 7), 'Stockholm': (14, 4), 'Lisbon': (8, 4), 'Rome': (6, 7), 'Prague': (1, 10), 'Berlin': (1, 8), 'Paris': (8, 10), 'Madrid': (4, 15), 'London': (5, 13)}\n",
      "39.518082934690824\n"
     ]
    }
   ],
   "source": [
    "def genetic_algorithm(cities, max_distance, n_sol, n_cities, n_iterations, cross_rate, mutate_rate, verbose = False):\n",
    "    coords = determine_coords(cities, max_distance)\n",
    "    cities_selection = initial_countries(n_sol, n_cities, cities)\n",
    "    solutions_coords = construct_pop_coords(cities_selection, coords)\n",
    "    \n",
    "    optimal_solution = None\n",
    "    optimal_dist = 10000\n",
    "    optimal_score = 0\n",
    "    \n",
    "    for iteration in range(n_iterations):\n",
    "        total_distances = calc_total_dist(solutions_coords)\n",
    "        weights = assign_weights(total_distances)\n",
    "        selected_solutions = probability_wheel(solutions_coords, weights)\n",
    "\n",
    "        crossover_results = crossover(selected_solutions, cross_rate)\n",
    "\n",
    "        mutated_results = mutate(crossover_results, mutate_rate)\n",
    "\n",
    "        total_distances_after_algo = calc_total_dist(mutated_results)\n",
    "        weights_new_gen = assign_weights(total_distances_after_algo)\n",
    "\n",
    "        best_dist = total_distances_after_algo[np.argmax(weights_new_gen)]\n",
    "        best_sol = mutated_results[np.argmax(weights_new_gen)]\n",
    "\n",
    "        if verbose:\n",
    "            print(f\"best solution : {best_sol} | total dist : {best_dist}\")\n",
    "\n",
    "        if best_dist < optimal_dist:\n",
    "            optimal_dist = best_dist\n",
    "            optimal_solution = best_sol\n",
    "\n",
    "        solutions_coords = mutated_results\n",
    "\n",
    "    print(optimal_solution)\n",
    "    print(optimal_dist)\n",
    "\n",
    "genetic_algorithm(cities = cities, max_distance = 20, n_sol = 100, n_cities = 10, n_iterations = 1000, cross_rate = 0.4, mutate_rate = 0.2, verbose = False)"
   ]
  }
 ],
 "metadata": {
  "kernelspec": {
   "display_name": "datasci",
   "language": "python",
   "name": "python3"
  },
  "language_info": {
   "codemirror_mode": {
    "name": "ipython",
    "version": 3
   },
   "file_extension": ".py",
   "mimetype": "text/x-python",
   "name": "python",
   "nbconvert_exporter": "python",
   "pygments_lexer": "ipython3",
   "version": "3.10.13"
  }
 },
 "nbformat": 4,
 "nbformat_minor": 2
}
